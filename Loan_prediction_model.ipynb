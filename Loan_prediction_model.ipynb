{
  "nbformat": 4,
  "nbformat_minor": 0,
  "metadata": {
    "colab": {
      "name": "Loan prediction model.ipynb",
      "provenance": [],
      "collapsed_sections": []
    },
    "kernelspec": {
      "name": "python3",
      "display_name": "Python 3"
    }
  },
  "cells": [
    {
      "cell_type": "markdown",
      "metadata": {
        "id": "Irwez7rAod5p",
        "colab_type": "text"
      },
      "source": [
        "**EDA**\n"
      ]
    },
    {
      "cell_type": "code",
      "metadata": {
        "id": "0aS8yNFjSDKQ",
        "colab_type": "code",
        "colab": {}
      },
      "source": [
        "import pandas as pd\n",
        "import numpy as np"
      ],
      "execution_count": 0,
      "outputs": []
    },
    {
      "cell_type": "code",
      "metadata": {
        "id": "9ZS6RHIjvPKT",
        "colab_type": "code",
        "outputId": "39b9ba38-960a-47bd-853f-93fdb1d402a0",
        "colab": {
          "base_uri": "https://localhost:8080/",
          "height": 292
        }
      },
      "source": [
        "data=pd.read_csv('train_fNxu4vz.csv')\n",
        "data.head()"
      ],
      "execution_count": 2,
      "outputs": [
        {
          "output_type": "execute_result",
          "data": {
            "text/html": [
              "<div>\n",
              "<style scoped>\n",
              "    .dataframe tbody tr th:only-of-type {\n",
              "        vertical-align: middle;\n",
              "    }\n",
              "\n",
              "    .dataframe tbody tr th {\n",
              "        vertical-align: top;\n",
              "    }\n",
              "\n",
              "    .dataframe thead th {\n",
              "        text-align: right;\n",
              "    }\n",
              "</style>\n",
              "<table border=\"1\" class=\"dataframe\">\n",
              "  <thead>\n",
              "    <tr style=\"text-align: right;\">\n",
              "      <th></th>\n",
              "      <th>Loan_ID</th>\n",
              "      <th>Loan_Amount_Requested</th>\n",
              "      <th>Length_Employed</th>\n",
              "      <th>Home_Owner</th>\n",
              "      <th>Annual_Income</th>\n",
              "      <th>Income_Verified</th>\n",
              "      <th>Purpose_Of_Loan</th>\n",
              "      <th>Debt_To_Income</th>\n",
              "      <th>Inquiries_Last_6Mo</th>\n",
              "      <th>Months_Since_Deliquency</th>\n",
              "      <th>Number_Open_Accounts</th>\n",
              "      <th>Total_Accounts</th>\n",
              "      <th>Gender</th>\n",
              "      <th>Interest_Rate</th>\n",
              "    </tr>\n",
              "  </thead>\n",
              "  <tbody>\n",
              "    <tr>\n",
              "      <th>0</th>\n",
              "      <td>10000001</td>\n",
              "      <td>7,000</td>\n",
              "      <td>&lt; 1 year</td>\n",
              "      <td>Rent</td>\n",
              "      <td>68000.0</td>\n",
              "      <td>not verified</td>\n",
              "      <td>car</td>\n",
              "      <td>18.37</td>\n",
              "      <td>0</td>\n",
              "      <td>NaN</td>\n",
              "      <td>9</td>\n",
              "      <td>14</td>\n",
              "      <td>Female</td>\n",
              "      <td>1</td>\n",
              "    </tr>\n",
              "    <tr>\n",
              "      <th>1</th>\n",
              "      <td>10000002</td>\n",
              "      <td>30,000</td>\n",
              "      <td>4 years</td>\n",
              "      <td>Mortgage</td>\n",
              "      <td>NaN</td>\n",
              "      <td>VERIFIED - income</td>\n",
              "      <td>debt_consolidation</td>\n",
              "      <td>14.93</td>\n",
              "      <td>0</td>\n",
              "      <td>17.0</td>\n",
              "      <td>12</td>\n",
              "      <td>24</td>\n",
              "      <td>Female</td>\n",
              "      <td>3</td>\n",
              "    </tr>\n",
              "    <tr>\n",
              "      <th>2</th>\n",
              "      <td>10000003</td>\n",
              "      <td>24,725</td>\n",
              "      <td>7 years</td>\n",
              "      <td>Mortgage</td>\n",
              "      <td>75566.4</td>\n",
              "      <td>VERIFIED - income source</td>\n",
              "      <td>debt_consolidation</td>\n",
              "      <td>15.88</td>\n",
              "      <td>0</td>\n",
              "      <td>NaN</td>\n",
              "      <td>12</td>\n",
              "      <td>16</td>\n",
              "      <td>Male</td>\n",
              "      <td>3</td>\n",
              "    </tr>\n",
              "    <tr>\n",
              "      <th>3</th>\n",
              "      <td>10000004</td>\n",
              "      <td>16,000</td>\n",
              "      <td>&lt; 1 year</td>\n",
              "      <td>NaN</td>\n",
              "      <td>56160.0</td>\n",
              "      <td>VERIFIED - income source</td>\n",
              "      <td>debt_consolidation</td>\n",
              "      <td>14.34</td>\n",
              "      <td>3</td>\n",
              "      <td>NaN</td>\n",
              "      <td>16</td>\n",
              "      <td>22</td>\n",
              "      <td>Male</td>\n",
              "      <td>3</td>\n",
              "    </tr>\n",
              "    <tr>\n",
              "      <th>4</th>\n",
              "      <td>10000005</td>\n",
              "      <td>17,000</td>\n",
              "      <td>8 years</td>\n",
              "      <td>Own</td>\n",
              "      <td>96000.0</td>\n",
              "      <td>VERIFIED - income source</td>\n",
              "      <td>debt_consolidation</td>\n",
              "      <td>22.17</td>\n",
              "      <td>1</td>\n",
              "      <td>NaN</td>\n",
              "      <td>19</td>\n",
              "      <td>30</td>\n",
              "      <td>Female</td>\n",
              "      <td>1</td>\n",
              "    </tr>\n",
              "  </tbody>\n",
              "</table>\n",
              "</div>"
            ],
            "text/plain": [
              "    Loan_ID Loan_Amount_Requested  ...  Gender Interest_Rate\n",
              "0  10000001                 7,000  ...  Female             1\n",
              "1  10000002                30,000  ...  Female             3\n",
              "2  10000003                24,725  ...    Male             3\n",
              "3  10000004                16,000  ...    Male             3\n",
              "4  10000005                17,000  ...  Female             1\n",
              "\n",
              "[5 rows x 14 columns]"
            ]
          },
          "metadata": {
            "tags": []
          },
          "execution_count": 2
        }
      ]
    },
    {
      "cell_type": "code",
      "metadata": {
        "id": "6Ilp3n-Ycqd5",
        "colab_type": "code",
        "colab": {
          "base_uri": "https://localhost:8080/",
          "height": 71
        },
        "outputId": "327100ac-cb62-4336-b7f9-124c3f9c23f0"
      },
      "source": [
        "import seaborn as sns"
      ],
      "execution_count": 3,
      "outputs": [
        {
          "output_type": "stream",
          "text": [
            "/usr/local/lib/python3.6/dist-packages/statsmodels/tools/_testing.py:19: FutureWarning: pandas.util.testing is deprecated. Use the functions in the public API at pandas.testing instead.\n",
            "  import pandas.util.testing as tm\n"
          ],
          "name": "stderr"
        }
      ]
    },
    {
      "cell_type": "code",
      "metadata": {
        "id": "uDcyu5L_cv_0",
        "colab_type": "code",
        "colab": {
          "base_uri": "https://localhost:8080/",
          "height": 297
        },
        "outputId": "b869e6a8-58d9-4d14-8069-f078328833b6"
      },
      "source": [
        "sns.distplot(data['Interest_Rate'])"
      ],
      "execution_count": 6,
      "outputs": [
        {
          "output_type": "execute_result",
          "data": {
            "text/plain": [
              "<matplotlib.axes._subplots.AxesSubplot at 0x7f6d152be898>"
            ]
          },
          "metadata": {
            "tags": []
          },
          "execution_count": 6
        },
        {
          "output_type": "display_data",
          "data": {
            "image/png": "[encoded data removed]",
            "text/plain": [
              "<Figure size 432x288 with 1 Axes>"
            ]
          },
          "metadata": {
            "tags": [],
            "needs_background": "light"
          }
        }
      ]
    },
    {
      "cell_type": "code",
      "metadata": {
        "id": "QrwJPeb6vXSD",
        "colab_type": "code",
        "outputId": "2b2af0a6-0b78-4807-8a51-28301e916fb5",
        "colab": {
          "base_uri": "https://localhost:8080/",
          "height": 272
        }
      },
      "source": [
        "data.isnull().sum()"
      ],
      "execution_count": 0,
      "outputs": [
        {
          "output_type": "execute_result",
          "data": {
            "text/plain": [
              "Loan_ID                        0\n",
              "Loan_Amount_Requested          0\n",
              "Length_Employed             7371\n",
              "Home_Owner                 25349\n",
              "Annual_Income              25102\n",
              "Income_Verified                0\n",
              "Purpose_Of_Loan                0\n",
              "Debt_To_Income                 0\n",
              "Inquiries_Last_6Mo             0\n",
              "Months_Since_Deliquency    88379\n",
              "Number_Open_Accounts           0\n",
              "Total_Accounts                 0\n",
              "Gender                         0\n",
              "Interest_Rate                  0\n",
              "dtype: int64"
            ]
          },
          "metadata": {
            "tags": []
          },
          "execution_count": 39
        }
      ]
    },
    {
      "cell_type": "code",
      "metadata": {
        "id": "GHCmlfF9vaz3",
        "colab_type": "code",
        "outputId": "779bcf07-bf49-44d6-e4da-9cb021401bf7",
        "colab": {
          "base_uri": "https://localhost:8080/",
          "height": 272
        }
      },
      "source": [
        "data.dtypes"
      ],
      "execution_count": 0,
      "outputs": [
        {
          "output_type": "execute_result",
          "data": {
            "text/plain": [
              "Loan_ID                      int64\n",
              "Loan_Amount_Requested       object\n",
              "Length_Employed             object\n",
              "Home_Owner                  object\n",
              "Annual_Income              float64\n",
              "Income_Verified             object\n",
              "Purpose_Of_Loan             object\n",
              "Debt_To_Income             float64\n",
              "Inquiries_Last_6Mo           int64\n",
              "Months_Since_Deliquency    float64\n",
              "Number_Open_Accounts         int64\n",
              "Total_Accounts               int64\n",
              "Gender                      object\n",
              "Interest_Rate                int64\n",
              "dtype: object"
            ]
          },
          "metadata": {
            "tags": []
          },
          "execution_count": 40
        }
      ]
    },
    {
      "cell_type": "code",
      "metadata": {
        "id": "BvTOdCDHv0E3",
        "colab_type": "code",
        "outputId": "3aa6481d-4970-4165-d53f-27cfa9f8ff39",
        "colab": {
          "base_uri": "https://localhost:8080/",
          "height": 34
        }
      },
      "source": [
        "data.shape"
      ],
      "execution_count": 0,
      "outputs": [
        {
          "output_type": "execute_result",
          "data": {
            "text/plain": [
              "(164309, 14)"
            ]
          },
          "metadata": {
            "tags": []
          },
          "execution_count": 41
        }
      ]
    },
    {
      "cell_type": "code",
      "metadata": {
        "id": "3dIMvVsuvwvA",
        "colab_type": "code",
        "outputId": "5e5b02e1-54dc-4723-c24d-2edf3db8c00e",
        "colab": {
          "base_uri": "https://localhost:8080/",
          "height": 406
        }
      },
      "source": [
        "import seaborn as sns\n",
        "sns.heatmap(data.corr(),annot=True)"
      ],
      "execution_count": 0,
      "outputs": [
        {
          "output_type": "execute_result",
          "data": {
            "text/plain": [
              "<matplotlib.axes._subplots.AxesSubplot at 0x7fb6902cb9b0>"
            ]
          },
          "metadata": {
            "tags": []
          },
          "execution_count": 42
        },
        {
          "output_type": "display_data",
          "data": {
            "image/png": "[encoded data removed]",
            "text/plain": [
              "<Figure size 432x288 with 2 Axes>"
            ]
          },
          "metadata": {
            "tags": [],
            "needs_background": "light"
          }
        }
      ]
    },
    {
      "cell_type": "markdown",
      "metadata": {
        "id": "THyEAEZqolN1",
        "colab_type": "text"
      },
      "source": [
        "**Pre Processing**"
      ]
    },
    {
      "cell_type": "code",
      "metadata": {
        "id": "icEuZBpNweZP",
        "colab_type": "code",
        "colab": {}
      },
      "source": [
        "data.fillna({'Months_Since_Deliquency':data['Months_Since_Deliquency'].mean(),'Annual_Income':data['Annual_Income'].mean()},inplace=True)"
      ],
      "execution_count": 0,
      "outputs": []
    },
    {
      "cell_type": "code",
      "metadata": {
        "id": "L8on4SmpIIvC",
        "colab_type": "code",
        "colab": {}
      },
      "source": [
        "data.fillna({'Home_Owner':data['Home_Owner'].iloc[-1],'Length_Employed':data['Length_Employed'].iloc[-1]},inplace=True)"
      ],
      "execution_count": 0,
      "outputs": []
    },
    {
      "cell_type": "code",
      "metadata": {
        "id": "1cTuzQg9zCdr",
        "colab_type": "code",
        "colab": {}
      },
      "source": [
        "data['Loan_Amount_Requested']=[x.replace(',','') for x in data['Loan_Amount_Requested']]"
      ],
      "execution_count": 0,
      "outputs": []
    },
    {
      "cell_type": "code",
      "metadata": {
        "id": "0jUHXK3-zUVn",
        "colab_type": "code",
        "colab": {}
      },
      "source": [
        "data['Loan_Amount_Requested']=data['Loan_Amount_Requested'].astype('int64')"
      ],
      "execution_count": 0,
      "outputs": []
    },
    {
      "cell_type": "code",
      "metadata": {
        "id": "cUbmL0UlzYe5",
        "colab_type": "code",
        "outputId": "b9af7be5-93c3-441d-fff5-a2628d36fe96",
        "colab": {
          "base_uri": "https://localhost:8080/",
          "height": 419
        }
      },
      "source": [
        "data.select_dtypes('object')"
      ],
      "execution_count": 0,
      "outputs": [
        {
          "output_type": "execute_result",
          "data": {
            "text/html": [
              "<div>\n",
              "<style scoped>\n",
              "    .dataframe tbody tr th:only-of-type {\n",
              "        vertical-align: middle;\n",
              "    }\n",
              "\n",
              "    .dataframe tbody tr th {\n",
              "        vertical-align: top;\n",
              "    }\n",
              "\n",
              "    .dataframe thead th {\n",
              "        text-align: right;\n",
              "    }\n",
              "</style>\n",
              "<table border=\"1\" class=\"dataframe\">\n",
              "  <thead>\n",
              "    <tr style=\"text-align: right;\">\n",
              "      <th></th>\n",
              "      <th>Length_Employed</th>\n",
              "      <th>Home_Owner</th>\n",
              "      <th>Income_Verified</th>\n",
              "      <th>Purpose_Of_Loan</th>\n",
              "      <th>Gender</th>\n",
              "    </tr>\n",
              "  </thead>\n",
              "  <tbody>\n",
              "    <tr>\n",
              "      <th>0</th>\n",
              "      <td>&lt; 1 year</td>\n",
              "      <td>Rent</td>\n",
              "      <td>not verified</td>\n",
              "      <td>car</td>\n",
              "      <td>Female</td>\n",
              "    </tr>\n",
              "    <tr>\n",
              "      <th>1</th>\n",
              "      <td>4 years</td>\n",
              "      <td>Mortgage</td>\n",
              "      <td>VERIFIED - income</td>\n",
              "      <td>debt_consolidation</td>\n",
              "      <td>Female</td>\n",
              "    </tr>\n",
              "    <tr>\n",
              "      <th>2</th>\n",
              "      <td>7 years</td>\n",
              "      <td>Mortgage</td>\n",
              "      <td>VERIFIED - income source</td>\n",
              "      <td>debt_consolidation</td>\n",
              "      <td>Male</td>\n",
              "    </tr>\n",
              "    <tr>\n",
              "      <th>3</th>\n",
              "      <td>&lt; 1 year</td>\n",
              "      <td>Rent</td>\n",
              "      <td>VERIFIED - income source</td>\n",
              "      <td>debt_consolidation</td>\n",
              "      <td>Male</td>\n",
              "    </tr>\n",
              "    <tr>\n",
              "      <th>4</th>\n",
              "      <td>8 years</td>\n",
              "      <td>Own</td>\n",
              "      <td>VERIFIED - income source</td>\n",
              "      <td>debt_consolidation</td>\n",
              "      <td>Female</td>\n",
              "    </tr>\n",
              "    <tr>\n",
              "      <th>...</th>\n",
              "      <td>...</td>\n",
              "      <td>...</td>\n",
              "      <td>...</td>\n",
              "      <td>...</td>\n",
              "      <td>...</td>\n",
              "    </tr>\n",
              "    <tr>\n",
              "      <th>164304</th>\n",
              "      <td>10+ years</td>\n",
              "      <td>Rent</td>\n",
              "      <td>VERIFIED - income source</td>\n",
              "      <td>credit_card</td>\n",
              "      <td>Male</td>\n",
              "    </tr>\n",
              "    <tr>\n",
              "      <th>164305</th>\n",
              "      <td>8 years</td>\n",
              "      <td>Own</td>\n",
              "      <td>VERIFIED - income source</td>\n",
              "      <td>small_business</td>\n",
              "      <td>Male</td>\n",
              "    </tr>\n",
              "    <tr>\n",
              "      <th>164306</th>\n",
              "      <td>10+ years</td>\n",
              "      <td>Mortgage</td>\n",
              "      <td>VERIFIED - income</td>\n",
              "      <td>credit_card</td>\n",
              "      <td>Male</td>\n",
              "    </tr>\n",
              "    <tr>\n",
              "      <th>164307</th>\n",
              "      <td>4 years</td>\n",
              "      <td>Rent</td>\n",
              "      <td>not verified</td>\n",
              "      <td>major_purchase</td>\n",
              "      <td>Female</td>\n",
              "    </tr>\n",
              "    <tr>\n",
              "      <th>164308</th>\n",
              "      <td>10+ years</td>\n",
              "      <td>Rent</td>\n",
              "      <td>VERIFIED - income</td>\n",
              "      <td>credit_card</td>\n",
              "      <td>Female</td>\n",
              "    </tr>\n",
              "  </tbody>\n",
              "</table>\n",
              "<p>164309 rows × 5 columns</p>\n",
              "</div>"
            ],
            "text/plain": [
              "       Length_Employed Home_Owner  ...     Purpose_Of_Loan  Gender\n",
              "0             < 1 year       Rent  ...                 car  Female\n",
              "1              4 years   Mortgage  ...  debt_consolidation  Female\n",
              "2              7 years   Mortgage  ...  debt_consolidation    Male\n",
              "3             < 1 year       Rent  ...  debt_consolidation    Male\n",
              "4              8 years        Own  ...  debt_consolidation  Female\n",
              "...                ...        ...  ...                 ...     ...\n",
              "164304       10+ years       Rent  ...         credit_card    Male\n",
              "164305         8 years        Own  ...      small_business    Male\n",
              "164306       10+ years   Mortgage  ...         credit_card    Male\n",
              "164307         4 years       Rent  ...      major_purchase  Female\n",
              "164308       10+ years       Rent  ...         credit_card  Female\n",
              "\n",
              "[164309 rows x 5 columns]"
            ]
          },
          "metadata": {
            "tags": []
          },
          "execution_count": 47
        }
      ]
    },
    {
      "cell_type": "code",
      "metadata": {
        "id": "cW0HzjXbzmFb",
        "colab_type": "code",
        "colab": {}
      },
      "source": [
        "data=pd.get_dummies(data=data,columns=['Length_Employed','Home_Owner','Income_Verified','Purpose_Of_Loan','Gender'])"
      ],
      "execution_count": 0,
      "outputs": []
    },
    {
      "cell_type": "code",
      "metadata": {
        "id": "Yf0UBXtiz_3p",
        "colab_type": "code",
        "colab": {}
      },
      "source": [
        "data.drop('Loan_ID',axis=1,inplace=True)"
      ],
      "execution_count": 0,
      "outputs": []
    },
    {
      "cell_type": "code",
      "metadata": {
        "id": "dGnOWmOR0BzO",
        "colab_type": "code",
        "outputId": "d4318800-895b-42f6-f503-b40cc7411e21",
        "colab": {
          "base_uri": "https://localhost:8080/",
          "height": 34
        }
      },
      "source": [
        "data.shape"
      ],
      "execution_count": 0,
      "outputs": [
        {
          "output_type": "execute_result",
          "data": {
            "text/plain": [
              "(164309, 43)"
            ]
          },
          "metadata": {
            "tags": []
          },
          "execution_count": 50
        }
      ]
    },
    {
      "cell_type": "code",
      "metadata": {
        "id": "LKZRiXHM0rnM",
        "colab_type": "code",
        "outputId": "a4ff712f-b19f-4b8f-f1f6-e962b7e47f93",
        "colab": {
          "base_uri": "https://localhost:8080/",
          "height": 374
        }
      },
      "source": [
        "data.columns"
      ],
      "execution_count": 0,
      "outputs": [
        {
          "output_type": "execute_result",
          "data": {
            "text/plain": [
              "Index(['Loan_Amount_Requested', 'Annual_Income', 'Debt_To_Income',\n",
              "       'Inquiries_Last_6Mo', 'Months_Since_Deliquency', 'Number_Open_Accounts',\n",
              "       'Total_Accounts', 'Interest_Rate', 'Length_Employed_1 year',\n",
              "       'Length_Employed_10+ years', 'Length_Employed_2 years',\n",
              "       'Length_Employed_3 years', 'Length_Employed_4 years',\n",
              "       'Length_Employed_5 years', 'Length_Employed_6 years',\n",
              "       'Length_Employed_7 years', 'Length_Employed_8 years',\n",
              "       'Length_Employed_9 years', 'Length_Employed_< 1 year',\n",
              "       'Home_Owner_Mortgage', 'Home_Owner_None', 'Home_Owner_Other',\n",
              "       'Home_Owner_Own', 'Home_Owner_Rent',\n",
              "       'Income_Verified_VERIFIED - income',\n",
              "       'Income_Verified_VERIFIED - income source',\n",
              "       'Income_Verified_not verified', 'Purpose_Of_Loan_car',\n",
              "       'Purpose_Of_Loan_credit_card', 'Purpose_Of_Loan_debt_consolidation',\n",
              "       'Purpose_Of_Loan_educational', 'Purpose_Of_Loan_home_improvement',\n",
              "       'Purpose_Of_Loan_house', 'Purpose_Of_Loan_major_purchase',\n",
              "       'Purpose_Of_Loan_medical', 'Purpose_Of_Loan_moving',\n",
              "       'Purpose_Of_Loan_other', 'Purpose_Of_Loan_renewable_energy',\n",
              "       'Purpose_Of_Loan_small_business', 'Purpose_Of_Loan_vacation',\n",
              "       'Purpose_Of_Loan_wedding', 'Gender_Female', 'Gender_Male'],\n",
              "      dtype='object')"
            ]
          },
          "metadata": {
            "tags": []
          },
          "execution_count": 51
        }
      ]
    },
    {
      "cell_type": "code",
      "metadata": {
        "id": "c1C-rCZbLLHN",
        "colab_type": "code",
        "colab": {}
      },
      "source": [
        "data.rename(columns={'Length_Employed_< 1 year':'Length_Employed_Less than 1 year'},inplace=True)"
      ],
      "execution_count": 0,
      "outputs": []
    },
    {
      "cell_type": "markdown",
      "metadata": {
        "id": "QAkCiC2torDs",
        "colab_type": "text"
      },
      "source": [
        "**Train test split**"
      ]
    },
    {
      "cell_type": "code",
      "metadata": {
        "id": "LcUIJJo00WI6",
        "colab_type": "code",
        "colab": {}
      },
      "source": [
        "from sklearn.model_selection import train_test_split\n",
        "x=data.drop('Interest_Rate',axis=1)\n",
        "y=data['Interest_Rate']\n",
        "x_train,x_test,y_train,y_test=train_test_split(x,y,test_size=0.3)"
      ],
      "execution_count": 0,
      "outputs": []
    },
    {
      "cell_type": "markdown",
      "metadata": {
        "id": "7xZxwdR9oz7i",
        "colab_type": "text"
      },
      "source": [
        "**Applying model and hyperparametric tuning**\n"
      ]
    },
    {
      "cell_type": "code",
      "metadata": {
        "id": "rl6FVu_l1HfV",
        "colab_type": "code",
        "colab": {}
      },
      "source": [
        "import xgboost"
      ],
      "execution_count": 0,
      "outputs": []
    },
    {
      "cell_type": "code",
      "metadata": {
        "id": "LMH8wase1JdV",
        "colab_type": "code",
        "colab": {}
      },
      "source": [
        "from sklearn.model_selection import GridSearchCV,RandomizedSearchCV"
      ],
      "execution_count": 0,
      "outputs": []
    },
    {
      "cell_type": "code",
      "metadata": {
        "id": "0vek1EDC1jL_",
        "colab_type": "code",
        "colab": {}
      },
      "source": [
        "xgc=xgboost.XGBClassifier()"
      ],
      "execution_count": 0,
      "outputs": []
    },
    {
      "cell_type": "code",
      "metadata": {
        "id": "3GJtfmFB1P5U",
        "colab_type": "code",
        "colab": {}
      },
      "source": [
        "params={\n",
        "    'learning_rate':[0.05,0.10,0.20,0.25,0.30],\n",
        "    'max_depth':[3,4,5,7,8,10,12,15],\n",
        "    'min_child_weight':[1,3,5,7],\n",
        "    'gamma':[0.05,0.1,0.2,0.3,0.4],\n",
        "    'colsample_bytree':[0.3,0.4,0.5,0.7]\n",
        "}"
      ],
      "execution_count": 0,
      "outputs": []
    },
    {
      "cell_type": "code",
      "metadata": {
        "id": "NtDPpkhT1WMp",
        "colab_type": "code",
        "colab": {}
      },
      "source": [
        "random_search=RandomizedSearchCV(xgc,param_distributions=params,n_iter=5,n_jobs=-1,cv=5,verbose=3)"
      ],
      "execution_count": 0,
      "outputs": []
    },
    {
      "cell_type": "code",
      "metadata": {
        "id": "1s9s-H8_2Thy",
        "colab_type": "code",
        "outputId": "64424592-4afa-4531-bd23-f84dbc66a043",
        "colab": {
          "base_uri": "https://localhost:8080/",
          "height": 493
        }
      },
      "source": [
        "random_search.fit(x,y)"
      ],
      "execution_count": 0,
      "outputs": [
        {
          "output_type": "stream",
          "text": [
            "Fitting 5 folds for each of 5 candidates, totalling 25 fits\n"
          ],
          "name": "stdout"
        },
        {
          "output_type": "stream",
          "text": [
            "[Parallel(n_jobs=-1)]: Using backend LokyBackend with 2 concurrent workers.\n",
            "[Parallel(n_jobs=-1)]: Done  25 out of  25 | elapsed: 25.9min finished\n"
          ],
          "name": "stderr"
        },
        {
          "output_type": "execute_result",
          "data": {
            "text/plain": [
              "RandomizedSearchCV(cv=5, error_score=nan,\n",
              "                   estimator=XGBClassifier(base_score=0.5, booster='gbtree',\n",
              "                                           colsample_bylevel=1,\n",
              "                                           colsample_bynode=1,\n",
              "                                           colsample_bytree=1, gamma=0,\n",
              "                                           learning_rate=0.1, max_delta_step=0,\n",
              "                                           max_depth=3, min_child_weight=1,\n",
              "                                           missing=None, n_estimators=100,\n",
              "                                           n_jobs=1, nthread=None,\n",
              "                                           objective='binary:logistic',\n",
              "                                           random_state=0, reg_alpha=0,\n",
              "                                           reg_lambda=1, sc...\n",
              "                                           seed=None, silent=None, subsample=1,\n",
              "                                           verbosity=1),\n",
              "                   iid='deprecated', n_iter=5, n_jobs=-1,\n",
              "                   param_distributions={'colsample_bytree': [0.3, 0.4, 0.5,\n",
              "                                                             0.7],\n",
              "                                        'gamma': [0.05, 0.1, 0.2, 0.3, 0.4],\n",
              "                                        'learning_rate': [0.05, 0.1, 0.2, 0.25,\n",
              "                                                          0.3],\n",
              "                                        'max_depth': [3, 4, 5, 7, 8, 10, 12,\n",
              "                                                      15],\n",
              "                                        'min_child_weight': [1, 3, 5, 7]},\n",
              "                   pre_dispatch='2*n_jobs', random_state=None, refit=True,\n",
              "                   return_train_score=False, scoring=None, verbose=3)"
            ]
          },
          "metadata": {
            "tags": []
          },
          "execution_count": 59
        }
      ]
    },
    {
      "cell_type": "code",
      "metadata": {
        "id": "mut_1Tri-WV5",
        "colab_type": "code",
        "outputId": "104ccadc-319f-4c68-fe47-29493786b88d",
        "colab": {
          "base_uri": "https://localhost:8080/",
          "height": 136
        }
      },
      "source": [
        "random_search.best_estimator_"
      ],
      "execution_count": 0,
      "outputs": [
        {
          "output_type": "execute_result",
          "data": {
            "text/plain": [
              "XGBClassifier(base_score=0.5, booster='gbtree', colsample_bylevel=1,\n",
              "              colsample_bynode=1, colsample_bytree=0.7, gamma=0.3,\n",
              "              learning_rate=0.2, max_delta_step=0, max_depth=7,\n",
              "              min_child_weight=7, missing=None, n_estimators=100, n_jobs=1,\n",
              "              nthread=None, objective='multi:softprob', random_state=0,\n",
              "              reg_alpha=0, reg_lambda=1, scale_pos_weight=1, seed=None,\n",
              "              silent=None, subsample=1, verbosity=1)"
            ]
          },
          "metadata": {
            "tags": []
          },
          "execution_count": 60
        }
      ]
    },
    {
      "cell_type": "code",
      "metadata": {
        "id": "eTkvR5NqPykX",
        "colab_type": "code",
        "colab": {}
      },
      "source": [
        "classifier=xgboost.XGBClassifier(base_score=0.5, booster='gbtree', colsample_bylevel=1,\n",
        "              colsample_bynode=1, colsample_bytree=0.5, gamma=0.2,\n",
        "              learning_rate=0.3, max_delta_step=0, max_depth=7,\n",
        "              min_child_weight=7, missing=None, n_estimators=100, n_jobs=1,\n",
        "              nthread=None, objective='multi:softmax', random_state=0,\n",
        "              reg_alpha=0, reg_lambda=1, scale_pos_weight=1, seed=None,\n",
        "              silent=None, subsample=1, verbosity=1)"
      ],
      "execution_count": 0,
      "outputs": []
    },
    {
      "cell_type": "code",
      "metadata": {
        "id": "nhlrZxHc13Av",
        "colab_type": "code",
        "colab": {}
      },
      "source": [
        "classifier=xgboost.XGBClassifier(base_score=0.5, booster='dart', colsample_bylevel=1,\n",
        "              colsample_bynode=1, colsample_bytree=0.5, gamma=0.2,\n",
        "              learning_rate=0.3, max_delta_step=0, max_depth=7,\n",
        "              min_child_weight=7, missing=None, n_estimators=100, n_jobs=1,\n",
        "              nthread=None, objective='multi:softmax', random_state=0,\n",
        "              reg_alpha=0, reg_lambda=1, scale_pos_weight=1, seed=None,\n",
        "              silent=None, subsample=1, verbosity=1)"
      ],
      "execution_count": 0,
      "outputs": []
    },
    {
      "cell_type": "code",
      "metadata": {
        "id": "6hzht11j-c4U",
        "colab_type": "code",
        "outputId": "ffdf1f47-e564-4714-a194-62eb6dca2fd6",
        "colab": {
          "base_uri": "https://localhost:8080/",
          "height": 136
        }
      },
      "source": [
        "classifier.fit(x_train,y_train)"
      ],
      "execution_count": 0,
      "outputs": [
        {
          "output_type": "execute_result",
          "data": {
            "text/plain": [
              "XGBClassifier(base_score=0.5, booster='dart', colsample_bylevel=1,\n",
              "              colsample_bynode=1, colsample_bytree=0.5, gamma=0.2,\n",
              "              learning_rate=0.3, max_delta_step=0, max_depth=7,\n",
              "              min_child_weight=7, missing=None, n_estimators=100, n_jobs=1,\n",
              "              nthread=None, objective='multi:softprob', random_state=0,\n",
              "              reg_alpha=0, reg_lambda=1, scale_pos_weight=1, seed=None,\n",
              "              silent=None, subsample=1, verbosity=1)"
            ]
          },
          "metadata": {
            "tags": []
          },
          "execution_count": 155
        }
      ]
    },
    {
      "cell_type": "code",
      "metadata": {
        "id": "Y_JUTpUP-y1y",
        "colab_type": "code",
        "colab": {}
      },
      "source": [
        "clc_pred=classifier.predict(x_test)"
      ],
      "execution_count": 0,
      "outputs": []
    },
    {
      "cell_type": "markdown",
      "metadata": {
        "id": "sqQI8UCfo8kJ",
        "colab_type": "text"
      },
      "source": [
        "**Evaluation**"
      ]
    },
    {
      "cell_type": "code",
      "metadata": {
        "id": "NQ3gbcxfLfLc",
        "colab_type": "code",
        "colab": {}
      },
      "source": [
        "from sklearn.metrics import classification_report,accuracy_score,f1_score"
      ],
      "execution_count": 0,
      "outputs": []
    },
    {
      "cell_type": "code",
      "metadata": {
        "id": "qQMbUl-V-ykS",
        "colab_type": "code",
        "outputId": "94b6a21c-742b-49d9-d834-5a8b97ffb5fd",
        "colab": {
          "base_uri": "https://localhost:8080/",
          "height": 34
        }
      },
      "source": [
        "print(f1_score(y_test,clc_pred,average='weighted'))"
      ],
      "execution_count": 0,
      "outputs": [
        {
          "output_type": "stream",
          "text": [
            "0.5321940064610441\n"
          ],
          "name": "stdout"
        }
      ]
    },
    {
      "cell_type": "code",
      "metadata": {
        "id": "oIFOwDY5SHNl",
        "colab_type": "code",
        "colab": {}
      },
      "source": [
        "test=pd.read_csv('test_fjtUOL8.csv')"
      ],
      "execution_count": 0,
      "outputs": []
    },
    {
      "cell_type": "code",
      "metadata": {
        "id": "StCMAog3h0ci",
        "colab_type": "code",
        "outputId": "1a09c72d-0961-48c5-db12-360c54de86df",
        "colab": {
          "base_uri": "https://localhost:8080/",
          "height": 34
        }
      },
      "source": [
        "test.shape"
      ],
      "execution_count": 0,
      "outputs": [
        {
          "output_type": "execute_result",
          "data": {
            "text/plain": [
              "(109541, 13)"
            ]
          },
          "metadata": {
            "tags": []
          },
          "execution_count": 70
        }
      ]
    },
    {
      "cell_type": "code",
      "metadata": {
        "id": "yBEUJGbch5tX",
        "colab_type": "code",
        "outputId": "e6c0bf2e-8dfd-4cd5-bca5-3b95199597a3",
        "colab": {
          "base_uri": "https://localhost:8080/",
          "height": 748
        }
      },
      "source": [
        "test.isnull().sum()"
      ],
      "execution_count": 0,
      "outputs": [
        {
          "output_type": "execute_result",
          "data": {
            "text/plain": [
              "Loan_Amount_Requested                       0\n",
              "Annual_Income                               0\n",
              "Debt_To_Income                              0\n",
              "Inquiries_Last_6Mo                          0\n",
              "Months_Since_Deliquency                     0\n",
              "Number_Open_Accounts                        0\n",
              "Total_Accounts                              0\n",
              "Length_Employed_1 year                      0\n",
              "Length_Employed_10+ years                   0\n",
              "Length_Employed_2 years                     0\n",
              "Length_Employed_3 years                     0\n",
              "Length_Employed_4 years                     0\n",
              "Length_Employed_5 years                     0\n",
              "Length_Employed_6 years                     0\n",
              "Length_Employed_7 years                     0\n",
              "Length_Employed_8 years                     0\n",
              "Length_Employed_9 years                     0\n",
              "Length_Employed_Less than 1 year            0\n",
              "Home_Owner_Mortgage                         0\n",
              "Home_Owner_None                             0\n",
              "Home_Owner_Other                            0\n",
              "Home_Owner_Own                              0\n",
              "Home_Owner_Rent                             0\n",
              "Income_Verified_VERIFIED - income           0\n",
              "Income_Verified_VERIFIED - income source    0\n",
              "Income_Verified_not verified                0\n",
              "Purpose_Of_Loan_car                         0\n",
              "Purpose_Of_Loan_credit_card                 0\n",
              "Purpose_Of_Loan_debt_consolidation          0\n",
              "Purpose_Of_Loan_educational                 0\n",
              "Purpose_Of_Loan_home_improvement            0\n",
              "Purpose_Of_Loan_house                       0\n",
              "Purpose_Of_Loan_major_purchase              0\n",
              "Purpose_Of_Loan_medical                     0\n",
              "Purpose_Of_Loan_moving                      0\n",
              "Purpose_Of_Loan_other                       0\n",
              "Purpose_Of_Loan_renewable_energy            0\n",
              "Purpose_Of_Loan_small_business              0\n",
              "Purpose_Of_Loan_vacation                    0\n",
              "Purpose_Of_Loan_wedding                     0\n",
              "Gender_Female                               0\n",
              "Gender_Male                                 0\n",
              "dtype: int64"
            ]
          },
          "metadata": {
            "tags": []
          },
          "execution_count": 74
        }
      ]
    },
    {
      "cell_type": "markdown",
      "metadata": {
        "id": "uiIpszVspBn7",
        "colab_type": "text"
      },
      "source": [
        "**Applying model on Test dataset**"
      ]
    },
    {
      "cell_type": "code",
      "metadata": {
        "id": "iBX_cQQ1h9XR",
        "colab_type": "code",
        "colab": {}
      },
      "source": [
        "test.fillna({'Months_Since_Deliquency':test['Months_Since_Deliquency'].mean(),'Annual_Income':test['Annual_Income'].mean()},inplace=True)\n",
        "test.fillna({'Home_Owner':test['Home_Owner'].iloc[-1],'Length_Employed':test['Length_Employed'].iloc[-1]},inplace=True)\n",
        "test['Loan_Amount_Requested']=[x.replace(',','') for x in test['Loan_Amount_Requested']]\n",
        "test['Loan_Amount_Requested']=test['Loan_Amount_Requested'].astype('int64')\n",
        "test=pd.get_dummies(data=test,columns=['Length_Employed','Home_Owner','Income_Verified','Purpose_Of_Loan','Gender'])\n",
        "test.drop('Loan_ID',axis=1,inplace=True)\n",
        "test.rename(columns={'Length_Employed_< 1 year':'Length_Employed_Less than 1 year'},inplace=True)"
      ],
      "execution_count": 0,
      "outputs": []
    },
    {
      "cell_type": "code",
      "metadata": {
        "id": "m-JiR5A8jAA4",
        "colab_type": "code",
        "outputId": "35bd1335-b746-4c69-9aee-b5ac9bc3fd6c",
        "colab": {
          "base_uri": "https://localhost:8080/",
          "height": 357
        }
      },
      "source": [
        "test.columns"
      ],
      "execution_count": 0,
      "outputs": [
        {
          "output_type": "execute_result",
          "data": {
            "text/plain": [
              "Index(['Loan_Amount_Requested', 'Annual_Income', 'Debt_To_Income',\n",
              "       'Inquiries_Last_6Mo', 'Months_Since_Deliquency', 'Number_Open_Accounts',\n",
              "       'Total_Accounts', 'Length_Employed_1 year', 'Length_Employed_10+ years',\n",
              "       'Length_Employed_2 years', 'Length_Employed_3 years',\n",
              "       'Length_Employed_4 years', 'Length_Employed_5 years',\n",
              "       'Length_Employed_6 years', 'Length_Employed_7 years',\n",
              "       'Length_Employed_8 years', 'Length_Employed_9 years',\n",
              "       'Length_Employed_Less than 1 year', 'Home_Owner_Mortgage',\n",
              "       'Home_Owner_None', 'Home_Owner_Other', 'Home_Owner_Own',\n",
              "       'Home_Owner_Rent', 'Income_Verified_VERIFIED - income',\n",
              "       'Income_Verified_VERIFIED - income source',\n",
              "       'Income_Verified_not verified', 'Purpose_Of_Loan_car',\n",
              "       'Purpose_Of_Loan_credit_card', 'Purpose_Of_Loan_debt_consolidation',\n",
              "       'Purpose_Of_Loan_educational', 'Purpose_Of_Loan_home_improvement',\n",
              "       'Purpose_Of_Loan_house', 'Purpose_Of_Loan_major_purchase',\n",
              "       'Purpose_Of_Loan_medical', 'Purpose_Of_Loan_moving',\n",
              "       'Purpose_Of_Loan_other', 'Purpose_Of_Loan_renewable_energy',\n",
              "       'Purpose_Of_Loan_small_business', 'Purpose_Of_Loan_vacation',\n",
              "       'Purpose_Of_Loan_wedding', 'Gender_Female', 'Gender_Male'],\n",
              "      dtype='object')"
            ]
          },
          "metadata": {
            "tags": []
          },
          "execution_count": 73
        }
      ]
    },
    {
      "cell_type": "code",
      "metadata": {
        "id": "UEQxLOycjDBp",
        "colab_type": "code",
        "outputId": "aadcc607-2e18-4f97-d932-c8040b5b409e",
        "colab": {
          "base_uri": "https://localhost:8080/",
          "height": 241
        }
      },
      "source": [
        "test.head()"
      ],
      "execution_count": 0,
      "outputs": [
        {
          "output_type": "execute_result",
          "data": {
            "text/html": [
              "<div>\n",
              "<style scoped>\n",
              "    .dataframe tbody tr th:only-of-type {\n",
              "        vertical-align: middle;\n",
              "    }\n",
              "\n",
              "    .dataframe tbody tr th {\n",
              "        vertical-align: top;\n",
              "    }\n",
              "\n",
              "    .dataframe thead th {\n",
              "        text-align: right;\n",
              "    }\n",
              "</style>\n",
              "<table border=\"1\" class=\"dataframe\">\n",
              "  <thead>\n",
              "    <tr style=\"text-align: right;\">\n",
              "      <th></th>\n",
              "      <th>Loan_Amount_Requested</th>\n",
              "      <th>Annual_Income</th>\n",
              "      <th>Debt_To_Income</th>\n",
              "      <th>Inquiries_Last_6Mo</th>\n",
              "      <th>Months_Since_Deliquency</th>\n",
              "      <th>Number_Open_Accounts</th>\n",
              "      <th>Total_Accounts</th>\n",
              "      <th>Length_Employed_1 year</th>\n",
              "      <th>Length_Employed_10+ years</th>\n",
              "      <th>Length_Employed_2 years</th>\n",
              "      <th>Length_Employed_3 years</th>\n",
              "      <th>Length_Employed_4 years</th>\n",
              "      <th>Length_Employed_5 years</th>\n",
              "      <th>Length_Employed_6 years</th>\n",
              "      <th>Length_Employed_7 years</th>\n",
              "      <th>Length_Employed_8 years</th>\n",
              "      <th>Length_Employed_9 years</th>\n",
              "      <th>Length_Employed_Less than 1 year</th>\n",
              "      <th>Home_Owner_Mortgage</th>\n",
              "      <th>Home_Owner_None</th>\n",
              "      <th>Home_Owner_Other</th>\n",
              "      <th>Home_Owner_Own</th>\n",
              "      <th>Home_Owner_Rent</th>\n",
              "      <th>Income_Verified_VERIFIED - income</th>\n",
              "      <th>Income_Verified_VERIFIED - income source</th>\n",
              "      <th>Income_Verified_not verified</th>\n",
              "      <th>Purpose_Of_Loan_car</th>\n",
              "      <th>Purpose_Of_Loan_credit_card</th>\n",
              "      <th>Purpose_Of_Loan_debt_consolidation</th>\n",
              "      <th>Purpose_Of_Loan_educational</th>\n",
              "      <th>Purpose_Of_Loan_home_improvement</th>\n",
              "      <th>Purpose_Of_Loan_house</th>\n",
              "      <th>Purpose_Of_Loan_major_purchase</th>\n",
              "      <th>Purpose_Of_Loan_medical</th>\n",
              "      <th>Purpose_Of_Loan_moving</th>\n",
              "      <th>Purpose_Of_Loan_other</th>\n",
              "      <th>Purpose_Of_Loan_renewable_energy</th>\n",
              "      <th>Purpose_Of_Loan_small_business</th>\n",
              "      <th>Purpose_Of_Loan_vacation</th>\n",
              "      <th>Purpose_Of_Loan_wedding</th>\n",
              "      <th>Gender_Female</th>\n",
              "      <th>Gender_Male</th>\n",
              "    </tr>\n",
              "  </thead>\n",
              "  <tbody>\n",
              "    <tr>\n",
              "      <th>0</th>\n",
              "      <td>27500</td>\n",
              "      <td>129000.0</td>\n",
              "      <td>12.87</td>\n",
              "      <td>0</td>\n",
              "      <td>68.000000</td>\n",
              "      <td>10</td>\n",
              "      <td>37</td>\n",
              "      <td>0</td>\n",
              "      <td>1</td>\n",
              "      <td>0</td>\n",
              "      <td>0</td>\n",
              "      <td>0</td>\n",
              "      <td>0</td>\n",
              "      <td>0</td>\n",
              "      <td>0</td>\n",
              "      <td>0</td>\n",
              "      <td>0</td>\n",
              "      <td>0</td>\n",
              "      <td>1</td>\n",
              "      <td>0</td>\n",
              "      <td>0</td>\n",
              "      <td>0</td>\n",
              "      <td>0</td>\n",
              "      <td>1</td>\n",
              "      <td>0</td>\n",
              "      <td>0</td>\n",
              "      <td>0</td>\n",
              "      <td>0</td>\n",
              "      <td>1</td>\n",
              "      <td>0</td>\n",
              "      <td>0</td>\n",
              "      <td>0</td>\n",
              "      <td>0</td>\n",
              "      <td>0</td>\n",
              "      <td>0</td>\n",
              "      <td>0</td>\n",
              "      <td>0</td>\n",
              "      <td>0</td>\n",
              "      <td>0</td>\n",
              "      <td>0</td>\n",
              "      <td>0</td>\n",
              "      <td>1</td>\n",
              "    </tr>\n",
              "    <tr>\n",
              "      <th>1</th>\n",
              "      <td>26000</td>\n",
              "      <td>110000.0</td>\n",
              "      <td>11.37</td>\n",
              "      <td>0</td>\n",
              "      <td>33.914684</td>\n",
              "      <td>6</td>\n",
              "      <td>23</td>\n",
              "      <td>0</td>\n",
              "      <td>1</td>\n",
              "      <td>0</td>\n",
              "      <td>0</td>\n",
              "      <td>0</td>\n",
              "      <td>0</td>\n",
              "      <td>0</td>\n",
              "      <td>0</td>\n",
              "      <td>0</td>\n",
              "      <td>0</td>\n",
              "      <td>0</td>\n",
              "      <td>1</td>\n",
              "      <td>0</td>\n",
              "      <td>0</td>\n",
              "      <td>0</td>\n",
              "      <td>0</td>\n",
              "      <td>0</td>\n",
              "      <td>0</td>\n",
              "      <td>1</td>\n",
              "      <td>0</td>\n",
              "      <td>1</td>\n",
              "      <td>0</td>\n",
              "      <td>0</td>\n",
              "      <td>0</td>\n",
              "      <td>0</td>\n",
              "      <td>0</td>\n",
              "      <td>0</td>\n",
              "      <td>0</td>\n",
              "      <td>0</td>\n",
              "      <td>0</td>\n",
              "      <td>0</td>\n",
              "      <td>0</td>\n",
              "      <td>0</td>\n",
              "      <td>0</td>\n",
              "      <td>1</td>\n",
              "    </tr>\n",
              "    <tr>\n",
              "      <th>2</th>\n",
              "      <td>6075</td>\n",
              "      <td>75000.0</td>\n",
              "      <td>6.83</td>\n",
              "      <td>2</td>\n",
              "      <td>33.914684</td>\n",
              "      <td>5</td>\n",
              "      <td>20</td>\n",
              "      <td>0</td>\n",
              "      <td>0</td>\n",
              "      <td>0</td>\n",
              "      <td>0</td>\n",
              "      <td>0</td>\n",
              "      <td>0</td>\n",
              "      <td>0</td>\n",
              "      <td>0</td>\n",
              "      <td>0</td>\n",
              "      <td>0</td>\n",
              "      <td>1</td>\n",
              "      <td>0</td>\n",
              "      <td>0</td>\n",
              "      <td>0</td>\n",
              "      <td>0</td>\n",
              "      <td>1</td>\n",
              "      <td>1</td>\n",
              "      <td>0</td>\n",
              "      <td>0</td>\n",
              "      <td>0</td>\n",
              "      <td>0</td>\n",
              "      <td>1</td>\n",
              "      <td>0</td>\n",
              "      <td>0</td>\n",
              "      <td>0</td>\n",
              "      <td>0</td>\n",
              "      <td>0</td>\n",
              "      <td>0</td>\n",
              "      <td>0</td>\n",
              "      <td>0</td>\n",
              "      <td>0</td>\n",
              "      <td>0</td>\n",
              "      <td>0</td>\n",
              "      <td>0</td>\n",
              "      <td>1</td>\n",
              "    </tr>\n",
              "    <tr>\n",
              "      <th>3</th>\n",
              "      <td>12000</td>\n",
              "      <td>73000.0</td>\n",
              "      <td>7.76</td>\n",
              "      <td>0</td>\n",
              "      <td>33.914684</td>\n",
              "      <td>6</td>\n",
              "      <td>8</td>\n",
              "      <td>0</td>\n",
              "      <td>1</td>\n",
              "      <td>0</td>\n",
              "      <td>0</td>\n",
              "      <td>0</td>\n",
              "      <td>0</td>\n",
              "      <td>0</td>\n",
              "      <td>0</td>\n",
              "      <td>0</td>\n",
              "      <td>0</td>\n",
              "      <td>0</td>\n",
              "      <td>1</td>\n",
              "      <td>0</td>\n",
              "      <td>0</td>\n",
              "      <td>0</td>\n",
              "      <td>0</td>\n",
              "      <td>0</td>\n",
              "      <td>1</td>\n",
              "      <td>0</td>\n",
              "      <td>0</td>\n",
              "      <td>0</td>\n",
              "      <td>1</td>\n",
              "      <td>0</td>\n",
              "      <td>0</td>\n",
              "      <td>0</td>\n",
              "      <td>0</td>\n",
              "      <td>0</td>\n",
              "      <td>0</td>\n",
              "      <td>0</td>\n",
              "      <td>0</td>\n",
              "      <td>0</td>\n",
              "      <td>0</td>\n",
              "      <td>0</td>\n",
              "      <td>0</td>\n",
              "      <td>1</td>\n",
              "    </tr>\n",
              "    <tr>\n",
              "      <th>4</th>\n",
              "      <td>35000</td>\n",
              "      <td>156000.0</td>\n",
              "      <td>9.62</td>\n",
              "      <td>0</td>\n",
              "      <td>26.000000</td>\n",
              "      <td>9</td>\n",
              "      <td>21</td>\n",
              "      <td>0</td>\n",
              "      <td>0</td>\n",
              "      <td>0</td>\n",
              "      <td>0</td>\n",
              "      <td>0</td>\n",
              "      <td>0</td>\n",
              "      <td>0</td>\n",
              "      <td>0</td>\n",
              "      <td>0</td>\n",
              "      <td>0</td>\n",
              "      <td>1</td>\n",
              "      <td>1</td>\n",
              "      <td>0</td>\n",
              "      <td>0</td>\n",
              "      <td>0</td>\n",
              "      <td>0</td>\n",
              "      <td>0</td>\n",
              "      <td>0</td>\n",
              "      <td>1</td>\n",
              "      <td>0</td>\n",
              "      <td>0</td>\n",
              "      <td>1</td>\n",
              "      <td>0</td>\n",
              "      <td>0</td>\n",
              "      <td>0</td>\n",
              "      <td>0</td>\n",
              "      <td>0</td>\n",
              "      <td>0</td>\n",
              "      <td>0</td>\n",
              "      <td>0</td>\n",
              "      <td>0</td>\n",
              "      <td>0</td>\n",
              "      <td>0</td>\n",
              "      <td>0</td>\n",
              "      <td>1</td>\n",
              "    </tr>\n",
              "  </tbody>\n",
              "</table>\n",
              "</div>"
            ],
            "text/plain": [
              "   Loan_Amount_Requested  Annual_Income  ...  Gender_Female  Gender_Male\n",
              "0                  27500       129000.0  ...              0            1\n",
              "1                  26000       110000.0  ...              0            1\n",
              "2                   6075        75000.0  ...              0            1\n",
              "3                  12000        73000.0  ...              0            1\n",
              "4                  35000       156000.0  ...              0            1\n",
              "\n",
              "[5 rows x 42 columns]"
            ]
          },
          "metadata": {
            "tags": []
          },
          "execution_count": 75
        }
      ]
    },
    {
      "cell_type": "code",
      "metadata": {
        "id": "vhqmgC7ojUYm",
        "colab_type": "code",
        "colab": {}
      },
      "source": [
        "x=classifier.predict(test)"
      ],
      "execution_count": 0,
      "outputs": []
    },
    {
      "cell_type": "code",
      "metadata": {
        "id": "C_-wBt3XjfTM",
        "colab_type": "code",
        "colab": {}
      },
      "source": [
        "test1=pd.read_csv('test_fjtUOL8.csv')"
      ],
      "execution_count": 0,
      "outputs": []
    },
    {
      "cell_type": "code",
      "metadata": {
        "id": "njLmlLjGkBZY",
        "colab_type": "code",
        "outputId": "78522f8b-f241-4112-b0de-d65ea52a692e",
        "colab": {
          "base_uri": "https://localhost:8080/",
          "height": 221
        }
      },
      "source": [
        "test1['Loan_ID']"
      ],
      "execution_count": 0,
      "outputs": [
        {
          "output_type": "execute_result",
          "data": {
            "text/plain": [
              "0         10164310\n",
              "1         10164311\n",
              "2         10164312\n",
              "3         10164313\n",
              "4         10164314\n",
              "            ...   \n",
              "109536    10273846\n",
              "109537    10273847\n",
              "109538    10273848\n",
              "109539    10273849\n",
              "109540    10273850\n",
              "Name: Loan_ID, Length: 109541, dtype: int64"
            ]
          },
          "metadata": {
            "tags": []
          },
          "execution_count": 78
        }
      ]
    },
    {
      "cell_type": "code",
      "metadata": {
        "id": "1qcOjZbukF4Q",
        "colab_type": "code",
        "colab": {}
      },
      "source": [
        "test1['Interest_Rate']=x"
      ],
      "execution_count": 0,
      "outputs": []
    },
    {
      "cell_type": "code",
      "metadata": {
        "id": "CrBspIgyki40",
        "colab_type": "code",
        "colab": {}
      },
      "source": [
        "xgboost_loan_predictions=test1[['Loan_ID','Interest_Rate']]"
      ],
      "execution_count": 0,
      "outputs": []
    },
    {
      "cell_type": "code",
      "metadata": {
        "id": "9pGQ7xZ7lHNw",
        "colab_type": "code",
        "colab": {}
      },
      "source": [
        "xgboost_loan_predictions.to_csv('xgboost_loan_predictions.csv')"
      ],
      "execution_count": 0,
      "outputs": []
    },
    {
      "cell_type": "code",
      "metadata": {
        "id": "-CV4CSjYldzl",
        "colab_type": "code",
        "colab": {}
      },
      "source": [
        ""
      ],
      "execution_count": 0,
      "outputs": []
    }
  ]
}